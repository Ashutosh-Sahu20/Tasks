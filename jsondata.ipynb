{
 "cells": [
  {
   "cell_type": "code",
   "execution_count": null,
   "id": "833577f9",
   "metadata": {},
   "outputs": [],
   "source": [
    "import json"
   ]
  },
  {
   "cell_type": "code",
   "execution_count": null,
   "id": "23c50878",
   "metadata": {},
   "outputs": [],
   "source": [
    "with open (\"rein.json\",\"r\")as file:\n",
    "    data=json.load(file)"
   ]
  },
  {
   "cell_type": "code",
   "execution_count": null,
   "id": "f84dcfb2",
   "metadata": {},
   "outputs": [],
   "source": [
    "print(json.dumps(data,indent=4))"
   ]
  },
  {
   "cell_type": "code",
   "execution_count": null,
   "id": "01f0c1ae",
   "metadata": {},
   "outputs": [],
   "source": [
    "with open(\"required_name.txt\",'r') as field_file:\n",
    "    fields = field_file.read().splitlines()"
   ]
  },
  {
   "cell_type": "code",
   "execution_count": null,
   "id": "d6e0e420",
   "metadata": {},
   "outputs": [],
   "source": [
    "filtered_data = list()"
   ]
  },
  {
   "cell_type": "code",
   "execution_count": null,
   "id": "dd6ec4f5",
   "metadata": {},
   "outputs": [],
   "source": [
    "data['ignitionOn']"
   ]
  },
  {
   "cell_type": "code",
   "execution_count": null,
   "id": "5ad91d9b",
   "metadata": {},
   "outputs": [],
   "source": [
    "for dictionary in data[\"interimData\"]:\n",
    "    temp={}\n",
    "    for key,value in dictioary.items():\n",
    "        if key in fields:\n",
    "            temp.update({key:value})\n",
    "    filtered_data.append(temp)\n",
    "            "
   ]
  },
  {
   "cell_type": "code",
   "execution_count": null,
   "id": "2b0b8ec2",
   "metadata": {},
   "outputs": [],
   "source": [
    "data['interimData'] = filtered_data"
   ]
  },
  {
   "cell_type": "code",
   "execution_count": null,
   "id": "4e31e615",
   "metadata": {},
   "outputs": [],
   "source": [
    "print(json.dumps(data,indent=3))"
   ]
  },
  {
   "cell_type": "code",
   "execution_count": null,
   "id": "d03ea1dd",
   "metadata": {},
   "outputs": [],
   "source": []
  }
 ],
 "metadata": {
  "kernelspec": {
   "display_name": "Python 3 (ipykernel)",
   "language": "python",
   "name": "python3"
  },
  "language_info": {
   "codemirror_mode": {
    "name": "ipython",
    "version": 3
   },
   "file_extension": ".py",
   "mimetype": "text/x-python",
   "name": "python",
   "nbconvert_exporter": "python",
   "pygments_lexer": "ipython3",
   "version": "3.11.4"
  }
 },
 "nbformat": 4,
 "nbformat_minor": 5
}
